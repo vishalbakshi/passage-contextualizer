{
  "nbformat": 4,
  "nbformat_minor": 0,
  "metadata": {
    "colab": {
      "provenance": []
    },
    "kernelspec": {
      "name": "python3",
      "display_name": "Python 3"
    },
    "language_info": {
      "name": "python"
    }
  },
  "cells": [
    {
      "cell_type": "markdown",
      "source": [
        "<a target=\"_blank\" href=\"https://colab.research.google.com/github/vishalbakshi/passage-spanner/blob/main/2024_12_18_PassageSpanner.ipynb\">\n",
        "  <img src=\"https://colab.research.google.com/assets/colab-badge.svg\" alt=\"Open In Colab\"/>\n",
        "</a>"
      ],
      "metadata": {
        "id": "o5O2ZAELWwF2"
      }
    },
    {
      "cell_type": "code",
      "execution_count": 49,
      "metadata": {
        "id": "ClmtrdJfOtFm"
      },
      "outputs": [],
      "source": [
        "from dataclasses import dataclass\n",
        "from itertools import combinations\n",
        "from fastcore.utils import L, groupby\n",
        "from fastcore.test import test_eq\n",
        "from regex import finditer, escape"
      ]
    },
    {
      "cell_type": "code",
      "source": [
        "document = \"\"\"The quick brown fox jumps over the lazy dog.\n",
        "The quick brown fox runs through the field.\n",
        "A lazy dog sleeps in the sun.\"\"\"\n",
        "\n",
        "passages = [\n",
        "    \"quick brown fox\",\n",
        "    \"lazy dog\",\n",
        "    \"this passage is not in the document\"\n",
        "]\n",
        "document, passages"
      ],
      "metadata": {
        "colab": {
          "base_uri": "https://localhost:8080/"
        },
        "id": "OFIDpToGPavL",
        "outputId": "21228749-79b8-4723-d251-b338c35663af"
      },
      "execution_count": 50,
      "outputs": [
        {
          "output_type": "execute_result",
          "data": {
            "text/plain": [
              "('The quick brown fox jumps over the lazy dog.\\nThe quick brown fox runs through the field.\\nA lazy dog sleeps in the sun.',\n",
              " ['quick brown fox', 'lazy dog', 'this passage is not in the document'])"
            ]
          },
          "metadata": {},
          "execution_count": 50
        }
      ]
    },
    {
      "cell_type": "markdown",
      "source": [
        "## Passage"
      ],
      "metadata": {
        "id": "JPDzUkMyrR9t"
      }
    },
    {
      "cell_type": "markdown",
      "source": [
        "The main object that I'm working with is a `Passage` which holds four important pieces of information:\n",
        "\n",
        "- `text`: the passage text\n",
        "- `start_pos`: the integer start position of the passage in the document\n",
        "- `length`: the passage length\n",
        "- `end_pos`: the integer end position of the passage in the document"
      ],
      "metadata": {
        "id": "IjcJkShtrUSn"
      }
    },
    {
      "cell_type": "code",
      "source": [
        "passage = passages[0]\n",
        "passage"
      ],
      "metadata": {
        "colab": {
          "base_uri": "https://localhost:8080/",
          "height": 36
        },
        "id": "hskIhS58rsLH",
        "outputId": "8be9317e-29ce-4c76-844f-c86c45ef258c"
      },
      "execution_count": 51,
      "outputs": [
        {
          "output_type": "execute_result",
          "data": {
            "text/plain": [
              "'quick brown fox'"
            ],
            "application/vnd.google.colaboratory.intrinsic+json": {
              "type": "string"
            }
          },
          "metadata": {},
          "execution_count": 51
        }
      ]
    },
    {
      "cell_type": "code",
      "source": [
        "document.find(passage)"
      ],
      "metadata": {
        "colab": {
          "base_uri": "https://localhost:8080/"
        },
        "id": "XQ9XkKu1rwg2",
        "outputId": "03002c80-4b47-4160-c871-42e032a7cc9a"
      },
      "execution_count": 52,
      "outputs": [
        {
          "output_type": "execute_result",
          "data": {
            "text/plain": [
              "4"
            ]
          },
          "metadata": {},
          "execution_count": 52
        }
      ]
    },
    {
      "cell_type": "code",
      "source": [
        "len(passage)"
      ],
      "metadata": {
        "colab": {
          "base_uri": "https://localhost:8080/"
        },
        "id": "KIjZ7egNryVp",
        "outputId": "b401d503-0df3-4f92-d7ae-aa09842d0e07"
      },
      "execution_count": 53,
      "outputs": [
        {
          "output_type": "execute_result",
          "data": {
            "text/plain": [
              "15"
            ]
          },
          "metadata": {},
          "execution_count": 53
        }
      ]
    },
    {
      "cell_type": "code",
      "source": [
        "document.find(passage) + len(passage) - 1"
      ],
      "metadata": {
        "colab": {
          "base_uri": "https://localhost:8080/"
        },
        "id": "HKjItTomr0ft",
        "outputId": "874104e8-da55-4bbd-f28d-2f3ff9c131f4"
      },
      "execution_count": 54,
      "outputs": [
        {
          "output_type": "execute_result",
          "data": {
            "text/plain": [
              "18"
            ]
          },
          "metadata": {},
          "execution_count": 54
        }
      ]
    },
    {
      "cell_type": "code",
      "source": [
        "@dataclass\n",
        "class Passage:\n",
        "    text: str\n",
        "    start_pos: int\n",
        "    length: int\n",
        "\n",
        "    @property\n",
        "    def end_pos(self):\n",
        "        return self.start_pos if self.length == 0 else self.start_pos + self.length - 1"
      ],
      "metadata": {
        "id": "U-VkgY7QrNe9"
      },
      "execution_count": 55,
      "outputs": []
    },
    {
      "cell_type": "code",
      "source": [
        "p = Passage(passage, document.find(passage), len(passage))\n",
        "p"
      ],
      "metadata": {
        "colab": {
          "base_uri": "https://localhost:8080/"
        },
        "id": "F44llgP-r4hH",
        "outputId": "4b6facb0-bc97-4bf0-e99f-522d7932387f"
      },
      "execution_count": 56,
      "outputs": [
        {
          "output_type": "execute_result",
          "data": {
            "text/plain": [
              "Passage(text='quick brown fox', start_pos=4, length=15)"
            ]
          },
          "metadata": {},
          "execution_count": 56
        }
      ]
    },
    {
      "cell_type": "code",
      "source": [
        "def _passage(text, start_pos, length): return Passage(text=text, start_pos=start_pos, length=length)"
      ],
      "metadata": {
        "id": "VaV3GKGSswHp"
      },
      "execution_count": 57,
      "outputs": []
    },
    {
      "cell_type": "code",
      "source": [
        "p = _passage(passage, document.find(passage), len(passage))\n",
        "p"
      ],
      "metadata": {
        "colab": {
          "base_uri": "https://localhost:8080/"
        },
        "id": "9YET1A5ytEJz",
        "outputId": "f72c863c-b8d3-47af-d2c6-87e6ab90fd1d"
      },
      "execution_count": 58,
      "outputs": [
        {
          "output_type": "execute_result",
          "data": {
            "text/plain": [
              "Passage(text='quick brown fox', start_pos=4, length=15)"
            ]
          },
          "metadata": {},
          "execution_count": 58
        }
      ]
    },
    {
      "cell_type": "markdown",
      "source": [
        "## Span"
      ],
      "metadata": {
        "id": "pvq4I_Qxr-wR"
      }
    },
    {
      "cell_type": "markdown",
      "source": [
        "The next core object that I'm working with is a span which holds three pieces of information:\n",
        "\n",
        "- `start` Passage\n",
        "- `end` Passage\n",
        "- `distance` between the two (distance = the difference between the first character of the ending Passage and the last character of the starting Passage)"
      ],
      "metadata": {
        "id": "qM4HzrXgsAoA"
      }
    },
    {
      "cell_type": "code",
      "source": [
        "start = p\n",
        "start"
      ],
      "metadata": {
        "colab": {
          "base_uri": "https://localhost:8080/"
        },
        "id": "2DoucehtskRX",
        "outputId": "f2173753-8f51-4b1b-b05b-d9b6c52b2e3b"
      },
      "execution_count": 59,
      "outputs": [
        {
          "output_type": "execute_result",
          "data": {
            "text/plain": [
              "Passage(text='quick brown fox', start_pos=4, length=15)"
            ]
          },
          "metadata": {},
          "execution_count": 59
        }
      ]
    },
    {
      "cell_type": "code",
      "source": [
        "passage = passages[1]\n",
        "passage"
      ],
      "metadata": {
        "colab": {
          "base_uri": "https://localhost:8080/",
          "height": 36
        },
        "id": "fVS4yTYOtSQh",
        "outputId": "4db103f5-a7d4-4979-c6df-fb7edd0b5d0b"
      },
      "execution_count": 60,
      "outputs": [
        {
          "output_type": "execute_result",
          "data": {
            "text/plain": [
              "'lazy dog'"
            ],
            "application/vnd.google.colaboratory.intrinsic+json": {
              "type": "string"
            }
          },
          "metadata": {},
          "execution_count": 60
        }
      ]
    },
    {
      "cell_type": "code",
      "source": [
        "end = _passage(passage, document.find(passage), len(passage))\n",
        "end"
      ],
      "metadata": {
        "colab": {
          "base_uri": "https://localhost:8080/"
        },
        "id": "0zqRpOMXsmZk",
        "outputId": "5751ed51-adea-4a09-c827-f9a2b2fca3cc"
      },
      "execution_count": 61,
      "outputs": [
        {
          "output_type": "execute_result",
          "data": {
            "text/plain": [
              "Passage(text='lazy dog', start_pos=35, length=8)"
            ]
          },
          "metadata": {},
          "execution_count": 61
        }
      ]
    },
    {
      "cell_type": "code",
      "source": [
        "distance = end.start_pos - start.end_pos\n",
        "distance"
      ],
      "metadata": {
        "colab": {
          "base_uri": "https://localhost:8080/"
        },
        "id": "W3690EIJspAD",
        "outputId": "e4134e3d-dc7d-4f04-f0d4-134cf15c54e5"
      },
      "execution_count": 62,
      "outputs": [
        {
          "output_type": "execute_result",
          "data": {
            "text/plain": [
              "17"
            ]
          },
          "metadata": {},
          "execution_count": 62
        }
      ]
    },
    {
      "cell_type": "code",
      "source": [
        "@dataclass\n",
        "class Span:\n",
        "    start: Passage\n",
        "    end: Passage\n",
        "\n",
        "    @property\n",
        "    def distance(self): return self.end.start_pos - self.start.end_pos"
      ],
      "metadata": {
        "id": "hFKSwDhqPfba"
      },
      "execution_count": 63,
      "outputs": []
    },
    {
      "cell_type": "code",
      "source": [
        "s = Span(start, end)\n",
        "s, s.distance"
      ],
      "metadata": {
        "colab": {
          "base_uri": "https://localhost:8080/"
        },
        "id": "UJjl4IohtZq4",
        "outputId": "393584df-05cf-4646-e353-0dd35fe2625d"
      },
      "execution_count": 64,
      "outputs": [
        {
          "output_type": "execute_result",
          "data": {
            "text/plain": [
              "(Span(start=Passage(text='quick brown fox', start_pos=4, length=15), end=Passage(text='lazy dog', start_pos=35, length=8)),\n",
              " 17)"
            ]
          },
          "metadata": {},
          "execution_count": 64
        }
      ]
    },
    {
      "cell_type": "code",
      "source": [
        "def _span(start, end): return Span(start, end)"
      ],
      "metadata": {
        "id": "Nm1AS2CVtfxM"
      },
      "execution_count": 65,
      "outputs": []
    },
    {
      "cell_type": "code",
      "source": [
        "s = _span(start, end)\n",
        "s, s.distance"
      ],
      "metadata": {
        "colab": {
          "base_uri": "https://localhost:8080/"
        },
        "id": "siQdZE9utgf7",
        "outputId": "4c97c293-042d-45c4-93a8-05424f074c81"
      },
      "execution_count": 66,
      "outputs": [
        {
          "output_type": "execute_result",
          "data": {
            "text/plain": [
              "(Span(start=Passage(text='quick brown fox', start_pos=4, length=15), end=Passage(text='lazy dog', start_pos=35, length=8)),\n",
              " 17)"
            ]
          },
          "metadata": {},
          "execution_count": 66
        }
      ]
    },
    {
      "cell_type": "markdown",
      "source": [
        "## Converting a list of passages to Passages"
      ],
      "metadata": {
        "id": "c5Es4Dhftng6"
      }
    },
    {
      "cell_type": "code",
      "source": [
        "document"
      ],
      "metadata": {
        "colab": {
          "base_uri": "https://localhost:8080/",
          "height": 36
        },
        "id": "a1e9P9HguLHR",
        "outputId": "b923c5b5-8e5f-4390-e867-071928e74de9"
      },
      "execution_count": 67,
      "outputs": [
        {
          "output_type": "execute_result",
          "data": {
            "text/plain": [
              "'The quick brown fox jumps over the lazy dog.\\nThe quick brown fox runs through the field.\\nA lazy dog sleeps in the sun.'"
            ],
            "application/vnd.google.colaboratory.intrinsic+json": {
              "type": "string"
            }
          },
          "metadata": {},
          "execution_count": 67
        }
      ]
    },
    {
      "cell_type": "code",
      "source": [
        "passages"
      ],
      "metadata": {
        "colab": {
          "base_uri": "https://localhost:8080/"
        },
        "id": "wf6t1buztvfM",
        "outputId": "7fa41a65-e0c6-4d25-8ddf-bd3f56bfbee0"
      },
      "execution_count": 68,
      "outputs": [
        {
          "output_type": "execute_result",
          "data": {
            "text/plain": [
              "['quick brown fox', 'lazy dog', 'this passage is not in the document']"
            ]
          },
          "metadata": {},
          "execution_count": 68
        }
      ]
    },
    {
      "cell_type": "markdown",
      "source": [
        "A passage may occur multiple times in a document as this example shows, we want to capture all occurences as a unique Passage."
      ],
      "metadata": {
        "id": "FQjpFpiluMki"
      }
    },
    {
      "cell_type": "code",
      "source": [
        "passage = passages[0]\n",
        "passage"
      ],
      "metadata": {
        "colab": {
          "base_uri": "https://localhost:8080/",
          "height": 36
        },
        "id": "HnEksxgA92ZK",
        "outputId": "091f0142-4287-451e-d2ff-fbfc8cf289ac"
      },
      "execution_count": 69,
      "outputs": [
        {
          "output_type": "execute_result",
          "data": {
            "text/plain": [
              "'quick brown fox'"
            ],
            "application/vnd.google.colaboratory.intrinsic+json": {
              "type": "string"
            }
          },
          "metadata": {},
          "execution_count": 69
        }
      ]
    },
    {
      "cell_type": "code",
      "source": [
        "L(finditer(escape(passage), document))"
      ],
      "metadata": {
        "colab": {
          "base_uri": "https://localhost:8080/"
        },
        "id": "4Xbc2N3g900X",
        "outputId": "0fd5f505-4c1a-447a-854d-aa3ea481af4b"
      },
      "execution_count": 70,
      "outputs": [
        {
          "output_type": "execute_result",
          "data": {
            "text/plain": [
              "(#2) [<regex.Match object; span=(4, 19), match='quick brown fox'>,<regex.Match object; span=(49, 64), match='quick brown fox'>]"
            ]
          },
          "metadata": {},
          "execution_count": 70
        }
      ]
    },
    {
      "cell_type": "code",
      "source": [
        "def _find(passage, document): return L(finditer(escape(passage), document))"
      ],
      "metadata": {
        "id": "tOEKEf1U8_xD"
      },
      "execution_count": 71,
      "outputs": []
    },
    {
      "cell_type": "code",
      "source": [
        "ms = _find(passage, document)\n",
        "ms"
      ],
      "metadata": {
        "colab": {
          "base_uri": "https://localhost:8080/"
        },
        "id": "K8QM5VIe97P_",
        "outputId": "1c4c3df7-7af8-424b-9fac-bd7584fa083d"
      },
      "execution_count": 72,
      "outputs": [
        {
          "output_type": "execute_result",
          "data": {
            "text/plain": [
              "(#2) [<regex.Match object; span=(4, 19), match='quick brown fox'>,<regex.Match object; span=(49, 64), match='quick brown fox'>]"
            ]
          },
          "metadata": {},
          "execution_count": 72
        }
      ]
    },
    {
      "cell_type": "markdown",
      "source": [
        "I want to extract from each map the text, start index and length of text:"
      ],
      "metadata": {
        "id": "2D518XI899O3"
      }
    },
    {
      "cell_type": "code",
      "source": [
        "m = ms[0]\n",
        "m"
      ],
      "metadata": {
        "colab": {
          "base_uri": "https://localhost:8080/"
        },
        "id": "3csKNSpQ-CcS",
        "outputId": "e3bb5091-86b3-4576-80b7-729e064b6aef"
      },
      "execution_count": 73,
      "outputs": [
        {
          "output_type": "execute_result",
          "data": {
            "text/plain": [
              "<regex.Match object; span=(4, 19), match='quick brown fox'>"
            ]
          },
          "metadata": {},
          "execution_count": 73
        }
      ]
    },
    {
      "cell_type": "code",
      "source": [
        "(m.group(), m.start(), len(m.group()))"
      ],
      "metadata": {
        "colab": {
          "base_uri": "https://localhost:8080/"
        },
        "id": "lhmRVt-o-Ija",
        "outputId": "5c5a64b5-ce90-4213-c3b5-3abe2970bec7"
      },
      "execution_count": 74,
      "outputs": [
        {
          "output_type": "execute_result",
          "data": {
            "text/plain": [
              "('quick brown fox', 4, 15)"
            ]
          },
          "metadata": {},
          "execution_count": 74
        }
      ]
    },
    {
      "cell_type": "code",
      "source": [
        "def _parsematch(m): return (m.group(), m.start(), len(m.group()))"
      ],
      "metadata": {
        "id": "lFavMcKB9fYn"
      },
      "execution_count": 75,
      "outputs": []
    },
    {
      "cell_type": "code",
      "source": [
        "_parsematch(m)"
      ],
      "metadata": {
        "colab": {
          "base_uri": "https://localhost:8080/"
        },
        "id": "Fpq2vCx9-LhY",
        "outputId": "42d9a734-2f82-4714-acab-0b960715b450"
      },
      "execution_count": 76,
      "outputs": [
        {
          "output_type": "execute_result",
          "data": {
            "text/plain": [
              "('quick brown fox', 4, 15)"
            ]
          },
          "metadata": {},
          "execution_count": 76
        }
      ]
    },
    {
      "cell_type": "markdown",
      "source": [
        "Putting it all together for multiple passages with multiple occurences in the document:"
      ],
      "metadata": {
        "id": "G9dyIdXm-OH_"
      }
    },
    {
      "cell_type": "code",
      "source": [
        "L(passages).map(_find, document=document)"
      ],
      "metadata": {
        "colab": {
          "base_uri": "https://localhost:8080/"
        },
        "id": "Tx5Tt3BO9JZW",
        "outputId": "6505a635-752b-4500-b802-d2be3353a726"
      },
      "execution_count": 77,
      "outputs": [
        {
          "output_type": "execute_result",
          "data": {
            "text/plain": [
              "(#3) [[<regex.Match object; span=(4, 19), match='quick brown fox'>, <regex.Match object; span=(49, 64), match='quick brown fox'>],[<regex.Match object; span=(35, 43), match='lazy dog'>, <regex.Match object; span=(91, 99), match='lazy dog'>],[]]"
            ]
          },
          "metadata": {},
          "execution_count": 77
        }
      ]
    },
    {
      "cell_type": "markdown",
      "source": [
        "The empty list is for the passage that was not in the document, and will go away when using `concat`."
      ],
      "metadata": {
        "id": "D9pxp_hM-6aY"
      }
    },
    {
      "cell_type": "code",
      "source": [
        "passages[-1], _find(passages[-1], document)"
      ],
      "metadata": {
        "colab": {
          "base_uri": "https://localhost:8080/"
        },
        "id": "OduxC-3v--fp",
        "outputId": "e40f0f55-7afa-496c-8d7d-d14cb9a48afa"
      },
      "execution_count": 78,
      "outputs": [
        {
          "output_type": "execute_result",
          "data": {
            "text/plain": [
              "('this passage is not in the document', (#0) [])"
            ]
          },
          "metadata": {},
          "execution_count": 78
        }
      ]
    },
    {
      "cell_type": "code",
      "source": [
        "L(passages).map(_find, document=document).concat()"
      ],
      "metadata": {
        "colab": {
          "base_uri": "https://localhost:8080/"
        },
        "id": "WHNGg29E-4W5",
        "outputId": "41b47791-d625-466a-b408-57f6669e25f2"
      },
      "execution_count": 79,
      "outputs": [
        {
          "output_type": "execute_result",
          "data": {
            "text/plain": [
              "(#4) [<regex.Match object; span=(4, 19), match='quick brown fox'>,<regex.Match object; span=(49, 64), match='quick brown fox'>,<regex.Match object; span=(35, 43), match='lazy dog'>,<regex.Match object; span=(91, 99), match='lazy dog'>]"
            ]
          },
          "metadata": {},
          "execution_count": 79
        }
      ]
    },
    {
      "cell_type": "code",
      "source": [
        "L(passages).map(_find, document=document).concat().map(_parsematch)"
      ],
      "metadata": {
        "colab": {
          "base_uri": "https://localhost:8080/"
        },
        "id": "YA8ry9HL9l5c",
        "outputId": "213f52de-de33-4d90-e02a-cf03821aa210"
      },
      "execution_count": 80,
      "outputs": [
        {
          "output_type": "execute_result",
          "data": {
            "text/plain": [
              "(#4) [('quick brown fox', 4, 15),('quick brown fox', 49, 15),('lazy dog', 35, 8),('lazy dog', 91, 8)]"
            ]
          },
          "metadata": {},
          "execution_count": 80
        }
      ]
    },
    {
      "cell_type": "code",
      "source": [
        "L(passages).map(_find, document=document).concat().map(_parsematch).starmap(_passage)"
      ],
      "metadata": {
        "colab": {
          "base_uri": "https://localhost:8080/"
        },
        "id": "1pCiQLtR9uCG",
        "outputId": "65888e42-bfe6-41f4-a366-0bb73c5d58e4"
      },
      "execution_count": 81,
      "outputs": [
        {
          "output_type": "execute_result",
          "data": {
            "text/plain": [
              "(#4) [Passage(text='quick brown fox', start_pos=4, length=15),Passage(text='quick brown fox', start_pos=49, length=15),Passage(text='lazy dog', start_pos=35, length=8),Passage(text='lazy dog', start_pos=91, length=8)]"
            ]
          },
          "metadata": {},
          "execution_count": 81
        }
      ]
    },
    {
      "cell_type": "markdown",
      "source": [
        "Lastly, I want to sort by start position (ascending)."
      ],
      "metadata": {
        "id": "7KS9Ri3N-iGz"
      }
    },
    {
      "cell_type": "code",
      "source": [
        "ps = L(passages).map(_find, document=document).concat().map(_parsematch).starmap(_passage).sorted(key=lambda p: p.start_pos)\n",
        "ps"
      ],
      "metadata": {
        "colab": {
          "base_uri": "https://localhost:8080/"
        },
        "id": "YMoc5F04-gVK",
        "outputId": "7c2e50da-bfe1-4dd9-fb19-0df52c7d55b7"
      },
      "execution_count": 82,
      "outputs": [
        {
          "output_type": "execute_result",
          "data": {
            "text/plain": [
              "(#4) [Passage(text='quick brown fox', start_pos=4, length=15),Passage(text='lazy dog', start_pos=35, length=8),Passage(text='quick brown fox', start_pos=49, length=15),Passage(text='lazy dog', start_pos=91, length=8)]"
            ]
          },
          "metadata": {},
          "execution_count": 82
        }
      ]
    },
    {
      "cell_type": "markdown",
      "source": [
        "## Creating Spans from all Passage combinations"
      ],
      "metadata": {
        "id": "_sX1GgxY-ZnE"
      }
    },
    {
      "cell_type": "markdown",
      "source": [
        "The document may contain any span of two Passages, so we want all of them."
      ],
      "metadata": {
        "id": "LLgLbd8T_KnV"
      }
    },
    {
      "cell_type": "code",
      "source": [
        "combs = L(combinations(ps, 2))\n",
        "combs"
      ],
      "metadata": {
        "colab": {
          "base_uri": "https://localhost:8080/"
        },
        "id": "Rv08yrgY_PHm",
        "outputId": "76d2b0ea-c618-418f-a3a8-de7199edfbed"
      },
      "execution_count": 83,
      "outputs": [
        {
          "output_type": "execute_result",
          "data": {
            "text/plain": [
              "(#6) [(Passage(text='quick brown fox', start_pos=4, length=15), Passage(text='lazy dog', start_pos=35, length=8)),(Passage(text='quick brown fox', start_pos=4, length=15), Passage(text='quick brown fox', start_pos=49, length=15)),(Passage(text='quick brown fox', start_pos=4, length=15), Passage(text='lazy dog', start_pos=91, length=8)),(Passage(text='lazy dog', start_pos=35, length=8), Passage(text='quick brown fox', start_pos=49, length=15)),(Passage(text='lazy dog', start_pos=35, length=8), Passage(text='lazy dog', start_pos=91, length=8)),(Passage(text='quick brown fox', start_pos=49, length=15), Passage(text='lazy dog', start_pos=91, length=8))]"
            ]
          },
          "metadata": {},
          "execution_count": 83
        }
      ]
    },
    {
      "cell_type": "code",
      "source": [
        "combs[0]"
      ],
      "metadata": {
        "colab": {
          "base_uri": "https://localhost:8080/"
        },
        "id": "qMvCi4BBLiho",
        "outputId": "bde4500c-df11-4228-9fbc-43800927a57f"
      },
      "execution_count": 84,
      "outputs": [
        {
          "output_type": "execute_result",
          "data": {
            "text/plain": [
              "(Passage(text='quick brown fox', start_pos=4, length=15),\n",
              " Passage(text='lazy dog', start_pos=35, length=8))"
            ]
          },
          "metadata": {},
          "execution_count": 84
        }
      ]
    },
    {
      "cell_type": "code",
      "source": [
        "combs.starmap(_span)"
      ],
      "metadata": {
        "colab": {
          "base_uri": "https://localhost:8080/"
        },
        "id": "MaDvOMyaLle2",
        "outputId": "241bcf8e-2cf2-4866-89c0-7b9c17d8c809"
      },
      "execution_count": 85,
      "outputs": [
        {
          "output_type": "execute_result",
          "data": {
            "text/plain": [
              "(#6) [Span(start=Passage(text='quick brown fox', start_pos=4, length=15), end=Passage(text='lazy dog', start_pos=35, length=8)),Span(start=Passage(text='quick brown fox', start_pos=4, length=15), end=Passage(text='quick brown fox', start_pos=49, length=15)),Span(start=Passage(text='quick brown fox', start_pos=4, length=15), end=Passage(text='lazy dog', start_pos=91, length=8)),Span(start=Passage(text='lazy dog', start_pos=35, length=8), end=Passage(text='quick brown fox', start_pos=49, length=15)),Span(start=Passage(text='lazy dog', start_pos=35, length=8), end=Passage(text='lazy dog', start_pos=91, length=8)),Span(start=Passage(text='quick brown fox', start_pos=49, length=15), end=Passage(text='lazy dog', start_pos=91, length=8))]"
            ]
          },
          "metadata": {},
          "execution_count": 85
        }
      ]
    },
    {
      "cell_type": "markdown",
      "source": [
        "I only want to keep Spans that are less than or equal to `max_dist`"
      ],
      "metadata": {
        "id": "dQ04fRaWLsu6"
      }
    },
    {
      "cell_type": "code",
      "source": [
        "max_dist=20\n",
        "spans = combs.starmap(_span).filter(lambda s: s.distance <= max_dist)\n",
        "spans"
      ],
      "metadata": {
        "colab": {
          "base_uri": "https://localhost:8080/"
        },
        "id": "HNFLnBIOLxZz",
        "outputId": "64fc4b20-c9c6-4e9b-c2fc-bdcf9af5fd49"
      },
      "execution_count": 86,
      "outputs": [
        {
          "output_type": "execute_result",
          "data": {
            "text/plain": [
              "(#2) [Span(start=Passage(text='quick brown fox', start_pos=4, length=15), end=Passage(text='lazy dog', start_pos=35, length=8)),Span(start=Passage(text='lazy dog', start_pos=35, length=8), end=Passage(text='quick brown fox', start_pos=49, length=15))]"
            ]
          },
          "metadata": {},
          "execution_count": 86
        }
      ]
    },
    {
      "cell_type": "markdown",
      "source": [
        "## Storing the longest Spans"
      ],
      "metadata": {
        "id": "dPwWM4kCL2tL"
      }
    },
    {
      "cell_type": "markdown",
      "source": [
        "Each Passage may start one or more Spans. I want the longest Span for each starting Passage."
      ],
      "metadata": {
        "id": "-vGDvjn8L5KR"
      }
    },
    {
      "cell_type": "code",
      "source": [
        "gs = groupby(spans, lambda s: s.start.start_pos)\n",
        "gs"
      ],
      "metadata": {
        "colab": {
          "base_uri": "https://localhost:8080/"
        },
        "id": "a0b-s0D0L2LX",
        "outputId": "26ec0d59-e9a8-4056-b86d-612ec8c5cb08"
      },
      "execution_count": 87,
      "outputs": [
        {
          "output_type": "execute_result",
          "data": {
            "text/plain": [
              "{4: [Span(start=Passage(text='quick brown fox', start_pos=4, length=15), end=Passage(text='lazy dog', start_pos=35, length=8))],\n",
              " 35: [Span(start=Passage(text='lazy dog', start_pos=35, length=8), end=Passage(text='quick brown fox', start_pos=49, length=15))]}"
            ]
          },
          "metadata": {},
          "execution_count": 87
        }
      ]
    },
    {
      "cell_type": "markdown",
      "source": [
        "There is only valid Span per starting position under `max_dist`."
      ],
      "metadata": {
        "id": "Oditr_yBMNG4"
      }
    },
    {
      "cell_type": "code",
      "source": [
        "L(max(g, key=lambda s: s.end.end_pos) for g in gs.values())"
      ],
      "metadata": {
        "colab": {
          "base_uri": "https://localhost:8080/"
        },
        "id": "yE_h9XvQMI0t",
        "outputId": "625e7707-efc2-4f7e-dfb6-a44448c782c3"
      },
      "execution_count": 88,
      "outputs": [
        {
          "output_type": "execute_result",
          "data": {
            "text/plain": [
              "(#2) [Span(start=Passage(text='quick brown fox', start_pos=4, length=15), end=Passage(text='lazy dog', start_pos=35, length=8)),Span(start=Passage(text='lazy dog', start_pos=35, length=8), end=Passage(text='quick brown fox', start_pos=49, length=15))]"
            ]
          },
          "metadata": {},
          "execution_count": 88
        }
      ]
    },
    {
      "cell_type": "markdown",
      "source": [
        "For illustrative purposes, I'll show my `max` operation on all Spans (even those greater than `max_dist`)"
      ],
      "metadata": {
        "id": "zyxUXeq4MTg9"
      }
    },
    {
      "cell_type": "code",
      "source": [
        "gs2 = groupby(combs.starmap(_span), lambda s: s.start.start_pos)\n",
        "gs2"
      ],
      "metadata": {
        "colab": {
          "base_uri": "https://localhost:8080/"
        },
        "id": "StQZYotiMZoA",
        "outputId": "faef4383-d91e-4690-987c-c410555565f5"
      },
      "execution_count": 89,
      "outputs": [
        {
          "output_type": "execute_result",
          "data": {
            "text/plain": [
              "{4: [Span(start=Passage(text='quick brown fox', start_pos=4, length=15), end=Passage(text='lazy dog', start_pos=35, length=8)),\n",
              "  Span(start=Passage(text='quick brown fox', start_pos=4, length=15), end=Passage(text='quick brown fox', start_pos=49, length=15)),\n",
              "  Span(start=Passage(text='quick brown fox', start_pos=4, length=15), end=Passage(text='lazy dog', start_pos=91, length=8))],\n",
              " 35: [Span(start=Passage(text='lazy dog', start_pos=35, length=8), end=Passage(text='quick brown fox', start_pos=49, length=15)),\n",
              "  Span(start=Passage(text='lazy dog', start_pos=35, length=8), end=Passage(text='lazy dog', start_pos=91, length=8))],\n",
              " 49: [Span(start=Passage(text='quick brown fox', start_pos=49, length=15), end=Passage(text='lazy dog', start_pos=91, length=8))]}"
            ]
          },
          "metadata": {},
          "execution_count": 89
        }
      ]
    },
    {
      "cell_type": "code",
      "source": [
        "L(max(g, key=lambda s: s.end.end_pos) for g in gs2.values())"
      ],
      "metadata": {
        "colab": {
          "base_uri": "https://localhost:8080/"
        },
        "id": "7452qy5XMhHn",
        "outputId": "919b7e12-db70-454a-b577-e93d444b92e0"
      },
      "execution_count": 90,
      "outputs": [
        {
          "output_type": "execute_result",
          "data": {
            "text/plain": [
              "(#3) [Span(start=Passage(text='quick brown fox', start_pos=4, length=15), end=Passage(text='lazy dog', start_pos=91, length=8)),Span(start=Passage(text='lazy dog', start_pos=35, length=8), end=Passage(text='lazy dog', start_pos=91, length=8)),Span(start=Passage(text='quick brown fox', start_pos=49, length=15), end=Passage(text='lazy dog', start_pos=91, length=8))]"
            ]
          },
          "metadata": {},
          "execution_count": 90
        }
      ]
    },
    {
      "cell_type": "markdown",
      "source": [
        "Wrapping this in a function:"
      ],
      "metadata": {
        "id": "J2Rmv9QPMnrX"
      }
    },
    {
      "cell_type": "code",
      "source": [
        "def longest(spans):\n",
        "    gs = groupby(spans, lambda s: s.start.start_pos)\n",
        "    return L(max(g, key=lambda s: s.end.end_pos) for g in gs.values())"
      ],
      "metadata": {
        "id": "ZbQdWA8KMp3e"
      },
      "execution_count": 91,
      "outputs": []
    },
    {
      "cell_type": "code",
      "source": [
        "longest(spans)"
      ],
      "metadata": {
        "colab": {
          "base_uri": "https://localhost:8080/"
        },
        "id": "h_M_VHBnMtXt",
        "outputId": "e3c2c56d-0455-49bd-a19a-f75bc6732767"
      },
      "execution_count": 92,
      "outputs": [
        {
          "output_type": "execute_result",
          "data": {
            "text/plain": [
              "(#2) [Span(start=Passage(text='quick brown fox', start_pos=4, length=15), end=Passage(text='lazy dog', start_pos=35, length=8)),Span(start=Passage(text='lazy dog', start_pos=35, length=8), end=Passage(text='quick brown fox', start_pos=49, length=15))]"
            ]
          },
          "metadata": {},
          "execution_count": 92
        }
      ]
    },
    {
      "cell_type": "markdown",
      "source": [
        "## Testing out functions"
      ],
      "metadata": {
        "id": "n5KogGWbLhgC"
      }
    },
    {
      "cell_type": "code",
      "source": [
        "@dataclass\n",
        "class Passage:\n",
        "    text: str\n",
        "    start_pos: int\n",
        "    length: int\n",
        "\n",
        "    @property\n",
        "    def end_pos(self):\n",
        "        return self.start_pos if self.length == 0 else self.start_pos + self.length - 1\n",
        "\n",
        "@dataclass\n",
        "class Span:\n",
        "    start: Passage\n",
        "    end: Passage\n",
        "\n",
        "    @property\n",
        "    def distance(self): return self.end.start_pos - self.start.end_pos"
      ],
      "metadata": {
        "id": "YNEtvQb0M_iy"
      },
      "execution_count": 93,
      "outputs": []
    },
    {
      "cell_type": "code",
      "source": [
        "def _parsematch(m): return (m.group(), m.start(), len(m.group()))\n",
        "def _find(passage, document): return L(finditer(escape(passage), document))\n",
        "\n",
        "def _passage(text, start_pos, length): return Passage(text=text, start_pos=start_pos, length=length)\n",
        "def _span(start, end): return Span(start, end)\n",
        "\n",
        "def longest(spans):\n",
        "    gs = groupby(spans, lambda s: s.start.start_pos)\n",
        "    return L(max(g, key=lambda s: s.end.end_pos) for g in gs.values())\n",
        "\n",
        "def _text(doc, passages, max_dist=20):\n",
        "    ps = L(passages).map(_find, document=doc).concat().map(_parsematch).starmap(_passage).sorted(key=lambda p: p.start_pos)\n",
        "    combs = L(combinations(ps, 2))\n",
        "    spans = longest(combs.starmap(_span).filter(lambda s: s.distance <= max_dist))\n",
        "    return L(doc[s.start.start_pos:s.end.end_pos+1] for s in spans)"
      ],
      "metadata": {
        "id": "_PNsPn6pPf6y"
      },
      "execution_count": 94,
      "outputs": []
    },
    {
      "cell_type": "markdown",
      "source": [
        "### Overlapping passages"
      ],
      "metadata": {
        "id": "yOJ4wOyCQMF4"
      }
    },
    {
      "cell_type": "code",
      "source": [
        "document = \"\"\"The quick brown fox jumps over the lazy dog.\n",
        "A clever fox leaps across the sleeping hound.\n",
        "The nimble creature bounds through the garden.\"\"\"\n",
        "\n",
        "passages = [\n",
        "    \"brown fox jumps over\",\n",
        "    \"fox jumps over the lazy\",\n",
        "    \"over the lazy dog.\\nA clever\",\n",
        "    \"the lazy dog\",\n",
        "    \"sleeping hound.\\nThe nimble\"\n",
        "]\n",
        "\n",
        "expected = L(['brown fox jumps over the lazy dog.\\nA clever','fox jumps over the lazy dog.\\nA clever','over the lazy dog'])\n",
        "document, passages"
      ],
      "metadata": {
        "colab": {
          "base_uri": "https://localhost:8080/"
        },
        "id": "lQZXNp0kSBcu",
        "outputId": "100ba1fa-efdc-4d50-f0b2-81264e63f9e0"
      },
      "execution_count": 95,
      "outputs": [
        {
          "output_type": "execute_result",
          "data": {
            "text/plain": [
              "('The quick brown fox jumps over the lazy dog.\\nA clever fox leaps across the sleeping hound.\\nThe nimble creature bounds through the garden.',\n",
              " ['brown fox jumps over',\n",
              "  'fox jumps over the lazy',\n",
              "  'over the lazy dog.\\nA clever',\n",
              "  'the lazy dog',\n",
              "  'sleeping hound.\\nThe nimble'])"
            ]
          },
          "metadata": {},
          "execution_count": 95
        }
      ]
    },
    {
      "cell_type": "code",
      "source": [
        "res = _text(document, passages)\n",
        "test_eq(res, expected)"
      ],
      "metadata": {
        "id": "lUvU-lKJSMtG"
      },
      "execution_count": 96,
      "outputs": []
    },
    {
      "cell_type": "code",
      "source": [
        "document = \"\"\"Once upon a time, a magical crystal glowed brightly.\n",
        "Its light danced across the ancient cavern walls.\n",
        "Deep within, secrets waited to be discovered.\"\"\"\n",
        "\n",
        "passages = [\n",
        "    \"magical crystal\",           # first in chain\n",
        "    \"crystal glowed\",           # overlaps with previous\n",
        "    \"glowed brightly\",          # overlaps with previous\n",
        "    \"brightly.\\nIts light\",     # overlaps with previous, crosses line\n",
        "    \"light danced\",             # overlaps with previous\n",
        "    \"Deep within\",              # separate passage\n",
        "    \"to be discovered\"          # separate passage\n",
        "]\n",
        "\n",
        "\n",
        "expected = L([\n",
        "    'magical crystal glowed brightly.\\nIts light',\n",
        "    'crystal glowed brightly.\\nIts light danced',\n",
        "    'glowed brightly.\\nIts light danced','brightly.\\nIts light danced',\n",
        "    'Deep within, secrets waited to be discovered'\n",
        "    ])\n",
        "document, passages"
      ],
      "metadata": {
        "colab": {
          "base_uri": "https://localhost:8080/"
        },
        "id": "8_DCmGDwNMsp",
        "outputId": "b1ee1823-dacf-4549-ca8e-73a927f129cd"
      },
      "execution_count": 97,
      "outputs": [
        {
          "output_type": "execute_result",
          "data": {
            "text/plain": [
              "('Once upon a time, a magical crystal glowed brightly.\\nIts light danced across the ancient cavern walls.\\nDeep within, secrets waited to be discovered.',\n",
              " ['magical crystal',\n",
              "  'crystal glowed',\n",
              "  'glowed brightly',\n",
              "  'brightly.\\nIts light',\n",
              "  'light danced',\n",
              "  'Deep within',\n",
              "  'to be discovered'])"
            ]
          },
          "metadata": {},
          "execution_count": 97
        }
      ]
    },
    {
      "cell_type": "code",
      "source": [
        "res = _text(document, passages)\n",
        "test_eq(res, expected)"
      ],
      "metadata": {
        "id": "qUGFvb7ZNnoe"
      },
      "execution_count": 98,
      "outputs": []
    },
    {
      "cell_type": "markdown",
      "source": [
        "### Repeated passages"
      ],
      "metadata": {
        "id": "Y8rd3aJ2QP55"
      }
    },
    {
      "cell_type": "code",
      "source": [
        "document = \"\"\"The quick brown fox jumps over the lazy dog.\n",
        "The quick brown fox runs through the field.\n",
        "A lazy dog sleeps in the sun.\"\"\"\n",
        "\n",
        "passages = [\n",
        "    \"quick brown fox\",  # Appears twice\n",
        "    \"lazy dog\"         # Appears twice\n",
        "]\n",
        "\n",
        "expected = L(['quick brown fox jumps over the lazy dog','lazy dog.\\nThe quick brown fox'])\n",
        "document, passages"
      ],
      "metadata": {
        "colab": {
          "base_uri": "https://localhost:8080/"
        },
        "id": "e7HIvY2sP7HO",
        "outputId": "6d1fb0ed-ce6c-4aa5-de4e-903d71e1cda8"
      },
      "execution_count": 99,
      "outputs": [
        {
          "output_type": "execute_result",
          "data": {
            "text/plain": [
              "('The quick brown fox jumps over the lazy dog.\\nThe quick brown fox runs through the field.\\nA lazy dog sleeps in the sun.',\n",
              " ['quick brown fox', 'lazy dog'])"
            ]
          },
          "metadata": {},
          "execution_count": 99
        }
      ]
    },
    {
      "cell_type": "code",
      "source": [
        "res = _text(document, passages)\n",
        "test_eq(res, expected)"
      ],
      "metadata": {
        "id": "xCAjPkFfP7sN"
      },
      "execution_count": 100,
      "outputs": []
    },
    {
      "cell_type": "markdown",
      "source": [
        "### Empty passages"
      ],
      "metadata": {
        "id": "QNXMfWf7QZn1"
      }
    },
    {
      "cell_type": "code",
      "source": [
        "document = \"doc\"\n",
        "passages = [\"\"]\n",
        "expected = L(['doc','oc','c'])\n",
        "document, passages"
      ],
      "metadata": {
        "colab": {
          "base_uri": "https://localhost:8080/"
        },
        "id": "nCpCLcIeQK8k",
        "outputId": "a967bcb6-5ebc-4e7b-8c1b-776e679edef5"
      },
      "execution_count": 101,
      "outputs": [
        {
          "output_type": "execute_result",
          "data": {
            "text/plain": [
              "('doc', [''])"
            ]
          },
          "metadata": {},
          "execution_count": 101
        }
      ]
    },
    {
      "cell_type": "code",
      "source": [
        "res = _text(document, passages)\n",
        "test_eq(res, expected)"
      ],
      "metadata": {
        "id": "kI0v7rRGQLAA"
      },
      "execution_count": 102,
      "outputs": []
    },
    {
      "cell_type": "markdown",
      "source": [
        "### Passages with whitespace characters"
      ],
      "metadata": {
        "id": "qQCeExbzQh5M"
      }
    },
    {
      "cell_type": "code",
      "source": [
        "document = \"This is a\\nsample\\tdocument with some content.\"\n",
        "passages = [\" \", \"   \", \"\\n\", \"\\t\"]\n",
        "expected = L([' is a\\nsample\\t',' a\\nsample\\tdocument ','\\nsample\\tdocument ','\\tdocument with some ',' with some ',' some '])\n",
        "document, passages"
      ],
      "metadata": {
        "colab": {
          "base_uri": "https://localhost:8080/"
        },
        "id": "bEt2XojiQLDu",
        "outputId": "d02ae84b-6b26-4973-9639-d2a328c83ce1"
      },
      "execution_count": 103,
      "outputs": [
        {
          "output_type": "execute_result",
          "data": {
            "text/plain": [
              "('This is a\\nsample\\tdocument with some content.', [' ', '   ', '\\n', '\\t'])"
            ]
          },
          "metadata": {},
          "execution_count": 103
        }
      ]
    },
    {
      "cell_type": "code",
      "source": [
        "res = _text(document, passages)\n",
        "test_eq(res, expected)"
      ],
      "metadata": {
        "id": "Xr_fDkiMQslG"
      },
      "execution_count": 104,
      "outputs": []
    },
    {
      "cell_type": "markdown",
      "source": [
        "### Passages with special characters or formatting"
      ],
      "metadata": {
        "id": "_ZgvfPuLQ018"
      }
    },
    {
      "cell_type": "code",
      "source": [
        "document = \"\"\"Special *formatting* and (punctuation) test!\n",
        "Some text with @#$% special chars.\n",
        "More text with <html> tags and line-breaks\n",
        "    plus some indentation.\"\"\"\n",
        "passages = [\n",
        "    \"*formatting*\",\n",
        "    \"@#$%\",\n",
        "    \"<html>\",\n",
        "    \"    plus\"\n",
        "]\n",
        "\n",
        "expected = L([])\n",
        "document, passages"
      ],
      "metadata": {
        "colab": {
          "base_uri": "https://localhost:8080/"
        },
        "id": "jqexaN_8Q7zM",
        "outputId": "118ec2af-5738-483d-8c1c-755ebde9e6d5"
      },
      "execution_count": 105,
      "outputs": [
        {
          "output_type": "execute_result",
          "data": {
            "text/plain": [
              "('Special *formatting* and (punctuation) test!\\nSome text with @#$% special chars.\\nMore text with <html> tags and line-breaks\\n    plus some indentation.',\n",
              " ['*formatting*', '@#$%', '<html>', '    plus'])"
            ]
          },
          "metadata": {},
          "execution_count": 105
        }
      ]
    },
    {
      "cell_type": "code",
      "source": [
        "res = _text(document, passages)\n",
        "test_eq(res, expected)"
      ],
      "metadata": {
        "id": "4DgKW4z6RCN9"
      },
      "execution_count": 106,
      "outputs": []
    },
    {
      "cell_type": "markdown",
      "source": [
        "### Non-existent passages"
      ],
      "metadata": {
        "id": "jTTrSqNbRF_G"
      }
    },
    {
      "cell_type": "code",
      "source": [
        "document = \"\"\"The sky is blue.\n",
        "The grass is green.\n",
        "The sun is yellow.\n",
        "The rose is red.\n",
        "The cloud is white.\"\"\"\n",
        "\n",
        "passages = [\n",
        "    \"The sky is blue.\",\n",
        "    \"The grass is green.\",\n",
        "    \"This passage is not in the document.\",\n",
        "    \"The sun is yellow.\",\n",
        "    \"The rose is red.\",\n",
        "    \"The cloud is white.\",\n",
        "    \"This passage is also not in the document.\"\n",
        "]\n",
        "\n",
        "expected = L([\"The sky is blue.\\nThe grass is green.\",\n",
        "\"The grass is green.\\nThe sun is yellow.\",\n",
        "\"The sun is yellow.\\nThe rose is red.\\nThe cloud is white.\",\n",
        "\"The rose is red.\\nThe cloud is white.\"])\n",
        "document, passages"
      ],
      "metadata": {
        "colab": {
          "base_uri": "https://localhost:8080/"
        },
        "id": "llmPIpsXRKjv",
        "outputId": "c32ca35e-00a0-4fd7-f60c-fb7d8d3f81a4"
      },
      "execution_count": 107,
      "outputs": [
        {
          "output_type": "execute_result",
          "data": {
            "text/plain": [
              "('The sky is blue.\\nThe grass is green.\\nThe sun is yellow.\\nThe rose is red.\\nThe cloud is white.',\n",
              " ['The sky is blue.',\n",
              "  'The grass is green.',\n",
              "  'This passage is not in the document.',\n",
              "  'The sun is yellow.',\n",
              "  'The rose is red.',\n",
              "  'The cloud is white.',\n",
              "  'This passage is also not in the document.'])"
            ]
          },
          "metadata": {},
          "execution_count": 107
        }
      ]
    },
    {
      "cell_type": "code",
      "source": [
        "res = _text(document, passages)\n",
        "test_eq(res, expected)"
      ],
      "metadata": {
        "id": "yUn6oeBiVJBH"
      },
      "execution_count": 108,
      "outputs": []
    }
  ]
}